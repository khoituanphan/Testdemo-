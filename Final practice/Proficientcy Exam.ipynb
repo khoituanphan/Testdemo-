{
 "cells": [
  {
   "cell_type": "markdown",
   "metadata": {},
   "source": [
    "                                    Proficiency Exam"
   ]
  },
  {
   "cell_type": "markdown",
   "metadata": {},
   "source": [
    "Problem 1 \n",
    "Flat Tax: (10-pts) A flat tax (short for flat-rate tax) is a tax system where the tax payment is calculated as fixed percentage of income. \n",
    "For example, with a tax rate of 20%, if income is $10,000 then the tax due is 20% x $10,000 = $2,000 and if income is $55,000 then tax\n",
    "due is $11,000. \n",
    "\n",
    "Write a program that prompt user for his or her income, a flat tax rate (a number between 1-100), and print out the tax due amount as shown in Figure 1"
   ]
  },
  {
   "cell_type": "code",
   "execution_count": 2,
   "metadata": {},
   "outputs": [
    {
     "name": "stdout",
     "output_type": "stream",
     "text": [
      "Your tax due amount is: $150.00\n"
     ]
    }
   ],
   "source": [
    "us_in = int(input(\"Enter Your Anual Income: \"))\n",
    "fx_rate = int(input(\"Enter your flat tax_rate (%): \"))\n",
    "tax_due = float((fx_rate/100)*us_in)\n",
    "print(f\"Your tax due amount is: ${tax_due:,.2f}\")"
   ]
  },
  {
   "cell_type": "markdown",
   "metadata": {},
   "source": [
    "Progessive Tax: (20-pts) \n",
    "A progressive tax is a tax in which the tax rate increases as the taxable amount increases. The term progressive refers to the way the tax rate progresses from low to high, with the result that a taxpayer’s average tax rate is less than the person’s marginal tax rate.\n",
    "A simplified Viet Nam tax Brackets is shown in Figure 2. An example of the tax amount\n",
    "due for an income of $10,000 is calculated as below:\n",
    "\n",
    "5/100 ∗2,500 + 10/100 ∗(5,000 −2,500) + 18/100 ∗(10,000 −5,000) = 1,275\n",
    "\n",
    "Hence, the effective (average) tax rate is 1,275/10,000 = 12,75%"
   ]
  },
  {
   "cell_type": "code",
   "execution_count": null,
   "metadata": {},
   "outputs": [],
   "source": [
    "an_in =  int(input(\"Enter Your Anual Income: \"))\n",
    "def progressive_tax(income):\n",
    "    tax_amount = 0\n",
    "    if income <= 2500:\n",
    "        tax_amount = 0.05 * 2500\n",
    "    elif 2500 < income <= 5000:\n",
    "        tax_amount = 0.05 * 2500 + 0.1 * 2500\n",
    "    elif 5000 < income <= 16500:\n",
    "        tax_amount = 0.05 * 2500 + 0.1 * 2500 + 0.18 * 5000\n",
    "    elif 16500 < income <= 41500:\n",
    "        tax_amount = 0.05 * 2500 + 0.1 * 2500 + 0.18 * 5000 + 0.28 * (16500 - 5001)\n",
    "    elif 41500 < income:\n",
    "        tax_amount = 0.05 * 2500 + 0.1 * 2500 + 0.18 * 5000 + 0.28 * (16500 - 5001) + 0.35 * (income - 41500)\n",
    "        "
   ]
  }
 ],
 "metadata": {
  "interpreter": {
   "hash": "f164d5efe9b6d27a72f1863e7af68e888e1728e4947268bad03f30ab84e86855"
  },
  "kernelspec": {
   "display_name": "Python 3.9.9 64-bit (windows store)",
   "language": "python",
   "name": "python3"
  },
  "language_info": {
   "codemirror_mode": {
    "name": "ipython",
    "version": 3
   },
   "file_extension": ".py",
   "mimetype": "text/x-python",
   "name": "python",
   "nbconvert_exporter": "python",
   "pygments_lexer": "ipython3",
   "version": "3.9.9"
  },
  "orig_nbformat": 4
 },
 "nbformat": 4,
 "nbformat_minor": 2
}

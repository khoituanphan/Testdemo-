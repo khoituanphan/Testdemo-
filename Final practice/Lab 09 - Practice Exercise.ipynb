{
 "cells": [
  {
   "cell_type": "markdown",
   "metadata": {},
   "source": [
    "# Lab 09: Practice Exercises"
   ]
  },
  {
   "cell_type": "markdown",
   "metadata": {},
   "source": [
    "## Problem 1 – Past tense words\n",
    "Verbs in the weak form: always end on -ed in the past. If a verb ends in -e, only add \"d\".\n",
    "\n",
    "Create a list contains words: \"use\", \"rain\", \"open\",\"admire\", \"learn\", \"switch\", \"advise\", \"cook\", \"accept\", \"add\", \"like\", \"move\", \"raise\", \"share\"\n",
    "\n",
    "Write a program to change these words into past tense words\n",
    "\n",
    "Save these past tense words to a list called \"past_tense_words\" and print it out"
   ]
  },
  {
   "cell_type": "code",
   "execution_count": null,
   "metadata": {},
   "outputs": [],
   "source": []
  },
  {
   "cell_type": "markdown",
   "metadata": {},
   "source": [
    "## Problem 2 – Searching and deleting a word in a given list\n",
    "\n",
    "Write a program that input a string and ask user to delete a given word from a string. For example:\n",
    "\n",
    "Enter a string: He is a good boy.\n",
    "\n",
    "Enter a word to delete: good\n",
    "\n",
    "String after deletion: He is a boy."
   ]
  },
  {
   "cell_type": "code",
   "execution_count": null,
   "metadata": {},
   "outputs": [],
   "source": []
  },
  {
   "cell_type": "markdown",
   "metadata": {},
   "source": [
    "## Problem 3 – Sum of zero ending numbers\n",
    "Write a function zero_ending(scores) to add all those values in the list of scores, which are ending with zero and display the sum. For example: If the scores contain [210, 456, 300, 100, 234, 678], the sum should be displayed as 610."
   ]
  },
  {
   "cell_type": "code",
   "execution_count": null,
   "metadata": {},
   "outputs": [],
   "source": []
  },
  {
   "cell_type": "markdown",
   "metadata": {},
   "source": [
    "## Problem 4\n",
    "Write a program that creates an acronym from the string entered by the user. Assume that the string only consists of alphabets and spacing. The acronym should be a combination of first letter of each word in the string. However, the following words must be excluded from the acronym: \"but\", \"do\", \"not\", \"to\", \"has\", \"have\", \"had\", \"then\", \"who\", \"when\", \"is\", \"why\", \"what\", \"how\", \"while\", \"hence\", \"I\", \"you\", \"he\", \"she\", \"it\", \"a\", \"for\", \"by\", \"an\", \"am\", \"the\", \"so\", \"and\", \"my\", \"are\", \"in\", \"at\", \"on\".\n",
    "\n",
    "Exp 1: the acronym for \"I do not want to go to bed because I am NOT TIRED\" is WGBBT\n",
    "\n",
    "Exp 2: the acronym for \"He had excellent skills in playing tennis and badminton\" is ESPTB"
   ]
  },
  {
   "cell_type": "code",
   "execution_count": null,
   "metadata": {},
   "outputs": [],
   "source": []
  },
  {
   "cell_type": "markdown",
   "metadata": {},
   "source": [
    "## Problem 5\n",
    "\n",
    "XYZ company computes the monthly wages of its part-time employees as follows:\n",
    "\n",
    "1. The first 40 hours are counted as base salary with a rate of $7 per hour.\n",
    "\n",
    "2. The next 20 hours are counted as overtime salary with a rate of $9 per hour.\n",
    "\n",
    "3. The remaining hours are counted as an incentive with a rate of $12 per hour.\n",
    "\n",
    "4. The income tax is 20% of the gross salary.\n",
    "\n",
    "Write a program to help XYZ to generate a monthly pay slip for each employee.\n",
    "\n",
    "For example:\n",
    "\n",
    "Case 1:\n",
    "\n",
    "[Input] Enter hours worked: 38\n",
    "\n",
    "[Output] Dear, here is your payslip for this month\n",
    "\n",
    "Total hours: 38\n",
    "\n",
    "Base: 38 x 7 = 266\n",
    "\n",
    "Gross Salary: $266\n",
    "\n",
    "Net Salary (20% tax) = $212.8\n",
    "\n",
    "Case 2:\n",
    "\n",
    "[Input] Enter hours worked: 41\n",
    "\n",
    "[Output] Dear, here is your payslip for this month\n",
    "\n",
    "Total hours: 41\n",
    "\n",
    "Base: 40 x 7 = 280\n",
    "\n",
    "Overtime: 1 x 9 = 9\n",
    "\n",
    "Gross Salary: $289\n",
    "\n",
    "Net Salary (20% tax) = $231.2\n",
    "\n",
    "Case 3:\n",
    "\n",
    "[Input] Enter hours worked: 65\n",
    "\n",
    "[Output] Dear, here is your payslip for this month\n",
    "\n",
    "Total hours: 65\n",
    "\n",
    "Base: 40 x 7 = 280\n",
    "\n",
    "Overtime: 20 x 9 = 180\n",
    "\n",
    "Incentive: 5 x 12 = 60\n",
    "\n",
    "Gross Salary: $520\n",
    "\n",
    "Net Salary (20% tax) = $416"
   ]
  },
  {
   "cell_type": "code",
   "execution_count": null,
   "metadata": {},
   "outputs": [],
   "source": []
  }
 ],
 "metadata": {
  "kernelspec": {
   "display_name": "Python 3",
   "language": "python",
   "name": "python3"
  },
  "language_info": {
   "codemirror_mode": {
    "name": "ipython",
    "version": 3
   },
   "file_extension": ".py",
   "mimetype": "text/x-python",
   "name": "python",
   "nbconvert_exporter": "python",
   "pygments_lexer": "ipython3",
   "version": "3.8.5"
  }
 },
 "nbformat": 4,
 "nbformat_minor": 4
}

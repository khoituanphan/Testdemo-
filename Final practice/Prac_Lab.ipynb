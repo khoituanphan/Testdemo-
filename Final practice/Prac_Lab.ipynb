{
 "cells": [
  {
   "cell_type": "markdown",
   "metadata": {},
   "source": [
    "Write a program to input an integer number n, write an efficient function to print all prime factors of n. \n",
    "For example, if the input number is 12, then output should be “2 2 3”. And if the input number is 315, then output should be “3 3 5 7”"
   ]
  },
  {
   "cell_type": "code",
   "execution_count": null,
   "metadata": {},
   "outputs": [
    {
     "name": "stdout",
     "output_type": "stream",
     "text": [
      "2\n",
      "2\n",
      "3\n"
     ]
    }
   ],
   "source": [
    "import math\n",
    "n = int(input(\"Input an interger: \"))\n",
    "\n",
    "while n%2 ==0:\n",
    "    print(2)\n",
    "    n  = int(n/2)\n",
    "for i in range (3, int(math.sqrt(n))+1, 2):\n",
    "    while n%i == 0:\n",
    "        print(i)\n",
    "        n = int(n/i)\n",
    "if n >2:\n",
    "    print(n)\n",
    "\n",
    "\n"
   ]
  },
  {
   "cell_type": "markdown",
   "metadata": {},
   "source": [
    "Find all interleavings of given strings that can be formed from all the characters of first and second string where order of characters is preserved. See example of input, output below.\n",
    "\n",
    "\n",
    "\n",
    "Hint: We can easily solve this problem using recursion. The idea is to append first or last character of X and Y in the result one by one and recur for remaining substring"
   ]
  },
  {
   "cell_type": "code",
   "execution_count": null,
   "metadata": {},
   "outputs": [],
   "source": []
  },
  {
   "cell_type": "code",
   "execution_count": 8,
   "metadata": {},
   "outputs": [
    {
     "name": "stdout",
     "output_type": "stream",
     "text": [
      "The longest common substring: fgh\n"
     ]
    }
   ],
   "source": [
    "def print_lcsub(X, Y):\n",
    "    for m in reversed(range(1, len(X))):\n",
    "        for k in range(len(X)-m):\n",
    "            if Y.find(X[k:k+m]) != -1:\n",
    "                print(f\"The longest common substring: {X[k:k+m]}\")\n",
    " \n",
    "                return\n",
    "    print(\"There is no common substring!\")\n",
    "\n",
    "X = input(\"Enter the first string: \")\n",
    "Y = input(\"Enter the second string: \")\n",
    "\n",
    "print_lcsub(X, Y)\n",
    "\n",
    "\n"
   ]
  },
  {
   "cell_type": "code",
   "execution_count": 3,
   "metadata": {},
   "outputs": [
    {
     "name": "stdout",
     "output_type": "stream",
     "text": [
      "The longest substring is: erty\n"
     ]
    }
   ],
   "source": [
    "X = input(\"Enter the first string: \")\n",
    "Y = input(\"Enter the second string: \")\n",
    "\n",
    "common = []\n",
    "str1 = \" \"\n",
    "def find_common(X, Y):\n",
    "    for i in range(len(X)):\n",
    "        for k in range(len(Y)):\n",
    "            if X[i] == Y[k]:\n",
    "                common.append(X[i])\n",
    "    return str1.join(common)\n",
    "out = (find_common(X, Y)).replace(\" \",\"\")\n",
    "if len(out) != 0:\n",
    "    print(\"The longest substring is: {}\".format(out))\n",
    "else:\n",
    "    print(\"There is no substring\")"
   ]
  },
  {
   "cell_type": "code",
   "execution_count": 19,
   "metadata": {},
   "outputs": [
    {
     "name": "stdout",
     "output_type": "stream",
     "text": [
      "<class 'str'>\n",
      "<class 'list'>\n",
      "[1, 2, [3, 4], 5]\n",
      "[3, 4]\n",
      "15\n"
     ]
    }
   ],
   "source": [
    "import json\n",
    "\n",
    "mtll = input(\"Enter a multi-level nested list:\")\n",
    "\n",
    "\n",
    "def jsoncon(data):\n",
    "    all = 0\n",
    "    print(data)\n",
    "    for i in data:\n",
    "        if isinstance(i, list):\n",
    "            all = all + jsoncon(i)\n",
    "        else:\n",
    "            all = all + i\n",
    "    return all\n",
    "\n",
    "jslis = json.loads(mtll)\n",
    "\n",
    "print(type(mtll))\n",
    "print(type(jslis))\n",
    "\n",
    "print(jsoncon(jslis))"
   ]
  },
  {
   "cell_type": "markdown",
   "metadata": {},
   "source": [
    "Sample Splution(Calculate all the instance, if detec a list then use recursive to re-read and add to value)"
   ]
  },
  {
   "cell_type": "code",
   "execution_count": 16,
   "metadata": {},
   "outputs": [
    {
     "name": "stdout",
     "output_type": "stream",
     "text": [
      "[1, 2, [3, 4], 5]\n",
      "[3, 4]\n",
      "The sum of all elements in [1, 2, [3, 4], 5] is 15\n"
     ]
    }
   ],
   "source": [
    "\n",
    " # Problem 4 Sample Solution\n",
    "import json\n",
    "\n",
    "def list_sum(data_list):\n",
    "    total = 0\n",
    "    print(data_list)\n",
    "    for element in data_list:\n",
    "        if isinstance(element , list):\n",
    "            total = total + list_sum(element)\n",
    "        else:\n",
    "            total = total + element\n",
    "\n",
    "    return total\n",
    "\n",
    "in_str = input(\"Enter a multi -level nested list: \")\n",
    "\n",
    " # Converting string to list\n",
    "in_lst = json.loads(in_str)\n",
    "\n",
    "s = list_sum(in_lst)\n",
    "print(f\"The sum of all elements in {in_str} is {s}\")\n"
   ]
  },
  {
   "cell_type": "code",
   "execution_count": null,
   "metadata": {},
   "outputs": [],
   "source": [
    "class Family():\n",
    "    count = 0\n",
    "    def name(son_name, father_name, mother_name):\n",
    "        "
   ]
  }
 ],
 "metadata": {
  "interpreter": {
   "hash": "f164d5efe9b6d27a72f1863e7af68e888e1728e4947268bad03f30ab84e86855"
  },
  "kernelspec": {
   "display_name": "Python 3.9.9 64-bit (windows store)",
   "language": "python",
   "name": "python3"
  },
  "language_info": {
   "codemirror_mode": {
    "name": "ipython",
    "version": 3
   },
   "file_extension": ".py",
   "mimetype": "text/x-python",
   "name": "python",
   "nbconvert_exporter": "python",
   "pygments_lexer": "ipython3",
   "version": "3.9.9"
  },
  "orig_nbformat": 4
 },
 "nbformat": 4,
 "nbformat_minor": 2
}

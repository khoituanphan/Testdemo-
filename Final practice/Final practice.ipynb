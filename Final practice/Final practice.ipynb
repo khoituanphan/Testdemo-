{
 "cells": [
  {
   "cell_type": "markdown",
   "metadata": {},
   "source": [
    "Week 8 (Looping)"
   ]
  },
  {
   "cell_type": "markdown",
   "metadata": {},
   "source": [
    "Problem 1 – Check prime number\n",
    "Write a function named is_prime, which takes an integer as an argument and returns true if\n",
    "the argument is a prime number, or false otherwise. Also, write the program that displays prime\n",
    "numbers between 1 to 200. Submit your program to CMS.\n",
    "Sample output:\n",
    "2 3 5 7 11 13 17 19 23 29 31 37 41 43 47 53 59 61 67 71 73 79 83 89 97 101 103 107\n",
    "109 113 127 131 137 139 149 151 157 163 167 173 179 181 191 193 197 199"
   ]
  },
  {
   "cell_type": "code",
   "execution_count": null,
   "metadata": {},
   "outputs": [],
   "source": [
    "def is_prime(x):\n",
    "    for num in range(2, x): #Chạy từ 2 -> x-1 (Python k nhận số cuối)\n",
    "        if x % num == 0:    #Nếu chia hết cho bất cứ số nào ngoài chính nó -> False\n",
    "            return False\n",
    "    return True             #Nếu k chia hết cho số nào -> True (Prime)\n",
    "for num in range(2, 201):   #Chạy từng số 1 từ 2 -> 199 (Vì bt 200 k là prime) thay 200 vẫn thế\n",
    "    if is_prime(num):       #Nếu true thì in k thì k \n",
    "        print(num, end=\" \")"
   ]
  },
  {
   "cell_type": "markdown",
   "metadata": {},
   "source": [
    "Problem 2 – Creating an acronym generator\n",
    "\n",
    "Write a program that creates an acronym from the string entered by the user. Assume that the\n",
    "string only consists of alphabets and spacing. The acronym should be a combination of first let-\n",
    "ter of each word in the string. However, the following words must be excluded from the acronym:\n",
    "\n",
    "\"but\", \"do\", \"not\", \"to\", \"has\", \"have\", \"had\", \"then\", \"who\", \"when\", \"is\", \"why\",\n",
    "\"what\", \"how\", \"while\", \"hence\", \"I\", \"you\", \"he\", \"she\", \"it\", \"a\", \"for\", \"by\",\n",
    "\"an\", \"am\", \"the\", \"so\", \"and\", \"my\", \"are\", \"in\", \"at\", \"on\".\n",
    "\n",
    "Exp 1: the acronym for \"I do not want to go to bed because I am NOT TIRED\" is WGBBT\n",
    "Exp 2: the acronym for \"He had excellent skills in playing tennis and badminton\" is ESPTB"
   ]
  },
  {
   "cell_type": "code",
   "execution_count": null,
   "metadata": {},
   "outputs": [],
   "source": [
    "banned_list = [\"but\", \"do\", \"not\", \"to\", \"has\", \"have\", \"had\", \"then\", \"who\", \"when\", \"is\", \"why\",\n",
    "\"what\", \"how\", \"while\", \"hence\", \"I\", \"you\", \"he\", \"she\", \"it\", \"a\", \"for\", \"by\",\n",
    "\"an\", \"am\", \"the\", \"so\", \"and\", \"my\", \"are\", \"in\", \"at\", \"on\"]\n",
    "a = (input(\"Enter your word: \")).split()\n",
    "for x in a: \n",
    "    if  x.lower not in [\"i\"]:\n",
    "        if x not in banned_list:\n",
    "            print (x[0].upper(), end= \"\")\n",
    "    "
   ]
  },
  {
   "cell_type": "markdown",
   "metadata": {},
   "source": [
    "Problem 3 – Sum of zero ending numbers\n",
    "\n",
    "Write the definition of a function zero_ending(scores) to add all those values in the list of\n",
    "scores, which are ending with zero and display the sum. \n",
    "\n",
    "For example: If the scores contain [200, 456, 300, 100, 234, 678], \n",
    "the sum should be displayed as 600."
   ]
  },
  {
   "cell_type": "code",
   "execution_count": null,
   "metadata": {},
   "outputs": [],
   "source": [
    "def zero_ending(scores):\n",
    "    sum = 0\n",
    "    for i in scores:\n",
    "        if i % 10 == 0:\n",
    "            sum += i\n",
    "    print(sum)\n",
    "zero_ending([200, 456, 300, 100, 234, 678])\n"
   ]
  },
  {
   "cell_type": "markdown",
   "metadata": {},
   "source": [
    "Problem 4 – Nested Loops and Matrices\n",
    "Given two matrices:\n",
    "\n",
    "12 7 3\n",
    "4 5 6\n",
    "7 8 9\n",
    "\n",
    "and\n",
    "\n",
    "5 8 1\n",
    "6 7 3\n",
    "4 5 9\n",
    "\n",
    "Program to add two matrices above using nested loop and submit your solution to CMS. The\n",
    "correct output is formatted as below:\n",
    "[17, 15, 4]\n",
    "[10, 12, 9]\n",
    "[11, 13, 18]"
   ]
  },
  {
   "cell_type": "code",
   "execution_count": null,
   "metadata": {},
   "outputs": [],
   "source": [
    "matrices1 = [12, 7, 3]\n",
    "matrices2 = [5, 8, 1 ]\n",
    "matricesend = []\n",
    "for i in range (0, len(matrices1)):\n",
    "    a = matrices1[i] + matrices2[i]\n",
    "    matricesend.append(a)\n",
    "print(matricesend)"
   ]
  },
  {
   "cell_type": "markdown",
   "metadata": {},
   "source": [
    "Make a diamond using nested for loops\n",
    "\n",
    "[CMS is not required] Write a problem that prints out a diamond. Let’s define diamonds for the positive odd integers, where the integer represents the number of rows and the number of stars\n",
    "on tin the middle row. \n",
    "Here are diamonds of size 1, 3, 5 and 7:\n",
    "\n",
    "\n",
    "We notice that the number of spaces decreases by 1 for the first half of the design and in-creases by 1 in the second half of the design. \n",
    "Secondly, the number of stars increases by 2 in the first half of the design and decreases by 2 in the second half of the design. \n",
    "We’ll use our for loop counting variable to represent the number of spaces on each line. In addition, we’ll add a minimal bit of error checking in our program. \n",
    "\n",
    "If the user enters an even number, we’ll simply tell them that we only make odd sized diamonds. \n",
    "\n",
    "Write this program without using the ’*’ operator for repeatedly printing out a string.\n",
    "\n"
   ]
  },
  {
   "cell_type": "code",
   "execution_count": null,
   "metadata": {},
   "outputs": [],
   "source": [
    "a = int(input(\"How many carats in your diamond?\"))\n",
    "print(a)\n",
    "if a%2 == 0:\n",
    "    print (\"We only make odd sized diamonds\")\n",
    "else:\n",
    "    for i in range(a//2):\n",
    "        print(\" \"*((a//2 + 1) - i),\"*\"*(i*2+1))\n",
    "    for i in range(a//2, -1, -1):\n",
    "        print(\" \"*((a//2 + 1) - i),\"*\"*(i*2+1))\n"
   ]
  },
  {
   "cell_type": "markdown",
   "metadata": {},
   "source": [
    "Week 9 (Tuple, Dict, Big 0, Linear Search)"
   ]
  },
  {
   "cell_type": "markdown",
   "metadata": {},
   "source": [
    "Write a program to create a tuple named my_tuple with the elements input by the user. Next,\n",
    "find the sum of the elements in my_tuple."
   ]
  },
  {
   "cell_type": "code",
   "execution_count": null,
   "metadata": {},
   "outputs": [],
   "source": [
    "my_tuple = input(\"Enter a tuple elements seperated by space: \").split()\n",
    "print(f\"Your tuple is \", tuple(my_tuple))\n",
    "print(f\"The sum of the elements in your tuple is \", sum(map(int, my_tuple)))"
   ]
  },
  {
   "cell_type": "markdown",
   "metadata": {},
   "source": [
    "Mr. Baba is a finance manager at ABC mart, and at the end of the year, he needs to prepare a 4-year sales report for the company. He needs to check which month in a specific year that achieved the monthly sales target set by the company CEO. Also, he needs to report the total sales for each year. \n",
    "\n",
    "The sales record for the year 2017, 2018, 2019, and 2020 are given as follows:\n",
    "\n",
    "Assume that the CEO has yet to inform the sales target of each year to Mr. Baba, write a program that allows Mr. Baba to extract the necessary information from the above sales records. \n",
    "\n",
    "First, create a dictionary that holds the sales record for each year, e.g., sales_2020 for the year 2020.\n",
    "\n",
    "The months and sales will be used as the dictionary’s keys and values, respectively.\n",
    "\n",
    "Next, create a variable sales_year={2020, 2019, 2018, 2017} that holds the years for all the sales record. The program should allow Mr. Baba to:\n",
    "\n",
    "\n",
    "1. Search for monthly records that met the target sales in a specific year.\n",
    "2. See the total months that met the target sales.\n",
    "3. See the total sales in a specific year.\n",
    "4. Notify the user if the sales record of the year specified is not found.\n",
    "\n",
    "\n",
    "Use the sample output to verify your program. Note that the sample output is based on random sales target (for testing purposes).\n"
   ]
  },
  {
   "cell_type": "code",
   "execution_count": 36,
   "metadata": {},
   "outputs": [
    {
     "name": "stdout",
     "output_type": "stream",
     "text": [
      "Jan, $500.00\n",
      "Feb, $1,200.00\n",
      "March, $750.00\n",
      "May, $950.00\n",
      "June, $1,350.00\n",
      "Sept, $1,000.00\n",
      "Nov, $1,400.00\n",
      "Dec, $980.00\n",
      "Total onths that met the sales target: 8\n",
      "Total sales for this year is $9,200.00\n"
     ]
    }
   ],
   "source": [
    "sales_2020 = {\"Jan\": 500, \"Feb\": 1200, \"March\": 750, \"Apr\": 250, \"May\": 950, \"June\": 1350, \"July\": 300, \"Aug\": 320,\n",
    "              \"Sept\": 1000, \"Oct\": 200, \"Nov\": 1400, \"Dec\": 980}\n",
    "sales_2019 = {\"Jan\": 1500, \"Feb\": 1000, \"March\": 850, \"Apr\": 1250, \"May\": 980, \"June\": 1020, \"July\": 800, \"Aug\": 1320,\n",
    "              \"Sept\": 960, \"Oct\": 1200, \"Nov\": 1300, \"Dec\": 1980}\n",
    "sales_2018 = {\"Jan\": 100, \"Feb\": 1500, \"March\": 2150, \"Apr\": 560, \"May\": 780, \"June\": 820, \"July\": 400, \"Aug\": 220,\n",
    "              \"Sept\": 1960, \"Oct\": 920, \"Nov\": 600, \"Dec\": 180}\n",
    "sales_2017 = {\"Jan\": 410, \"Feb\": 620, \"March\": 1150, \"Apr\": 190, \"May\": 380, \"June\": 220, \"July\": 490, \"Aug\": 1120,\n",
    "              \"Sept\": 190, \"Oct\": 1130, \"Nov\": 330, \"Dec\": 720}\n",
    "sales_year = {2020, 2019, 2018, 2017}\n",
    "\n",
    "while True:\n",
    "    targeted_year = int(input(\"Enter the targeted year: \"))\n",
    "    if targeted_year not in sales_year:\n",
    "        print(\"Records not found\")\n",
    "        continue\n",
    "    elif targeted_year == 2017:\n",
    "        chosen_year = sales_2017\n",
    "    elif targeted_year == 2018:\n",
    "        chosen_year = sales_2018\n",
    "    elif targeted_year == 2019:\n",
    "        chosen_year = sales_2019\n",
    "    elif targeted_year == 2020:\n",
    "        chosen_year = sales_2020\n",
    "\n",
    "\n",
    "\n",
    "    sales_target = int(input(\"Enter the sales target amount (USD): \"))\n",
    "    total_month = 0\n",
    "    for i in chosen_year:\n",
    "        if chosen_year[i] >= sales_target:\n",
    "            print (f\"{i}, ${chosen_year[i]:,.2f}\")\n",
    "            total_month += 1\n",
    "    break\n",
    "print (f\"Total onths that met the sales target: {total_month}\")\n",
    "print (f\"Total sales for this year is ${sum(chosen_year.values()):,.2f}\")"
   ]
  },
  {
   "cell_type": "markdown",
   "metadata": {},
   "source": [
    "\n",
    "Problem 4 – Linear Search\n",
    "Given an array arr = [10, 7, 2, 13, 4, 52, 6, 17, 81, 49], implement Linear Search function called linear_search(arr, num_find) to search whether the given element (an integer)\n",
    "entered by the user is present within the list or not. If the element is present in list then the program will return its position in the list else it will return \"not found\". \n",
    "\n",
    "See the example outputs below:\n",
    "\n",
    "Sample output 1:\n",
    "    Enter first number: 52\n",
    "    Number 52 found at position 6\n",
    "\n",
    "Sample output 2:\n",
    "    Enter first number: 81\n",
    "    Number 81 found at position 9\n",
    "    \n",
    "Sample output 3:\n",
    "    Enter first number: 50\n",
    "    Number 50 not found\n"
   ]
  },
  {
   "cell_type": "code",
   "execution_count": 79,
   "metadata": {},
   "outputs": [
    {
     "name": "stdout",
     "output_type": "stream",
     "text": [
      "Number 80 not found\n"
     ]
    }
   ],
   "source": [
    "arr = [10, 7, 2, 13, 4, 52, 6, 17, 81, 49]\n",
    "number =  int(input(\"Enter first number: \"))\n",
    "\n",
    "def linear_search(arr, num_find):\n",
    "    for i in range(len(arr)):\n",
    "        if arr[i] == num_find:\n",
    "            return (i+1)\n",
    "    return \"non\"\n",
    "if linear_search(arr, number) == \"non\":\n",
    "    print(f\"Number {number} not found\")\n",
    "else:\n",
    "    print(f\"Number {number} found at position {linear_search(arr, number)}\")\n",
    "        "
   ]
  },
  {
   "cell_type": "markdown",
   "metadata": {},
   "source": [
    "Week 10 (Sort and Search)\n",
    "\n",
    "Problem 2 – Sorting a list in ascending order\n",
    "Write a selection sort program that accepts the user’s input and then outputs a sorted list in ascending order. Prompt the user for the number of elements to be sorted. "
   ]
  },
  {
   "cell_type": "code",
   "execution_count": 88,
   "metadata": {},
   "outputs": [
    {
     "name": "stdout",
     "output_type": "stream",
     "text": [
      "1 2 3 5\n"
     ]
    }
   ],
   "source": [
    "num_element = int(input(\"Enter number of elements: \"))\n",
    "user_input = []\n",
    "for i in range(num_element):\n",
    "    a = int(input())\n",
    "    user_input.append(a)\n",
    "    sot_arr = sorted(user_input)\n",
    "print(*sot_arr)\n"
   ]
  },
  {
   "cell_type": "markdown",
   "metadata": {},
   "source": [
    " Partially sorted list\n",
    "You have the following list of numbers to sort: A = [5, 4, 6, 3, 1, 2]. Write a program to show the\n",
    "partially sorted list after each complete passes of selection sort.\n",
    "\n",
    "Selection Sort (Tìm từng phần của 1 chuỗi nếu phần tử sau bé hơn trc thì cho lên đầu)\n",
    "Repeat đến khi đc 1 chuỗi từ bé đến lớn)"
   ]
  },
  {
   "cell_type": "code",
   "execution_count": 15,
   "metadata": {},
   "outputs": [
    {
     "name": "stdout",
     "output_type": "stream",
     "text": [
      "Partially Sorted List 1\n",
      "1 4 6 3 5 2\n",
      "Partially Sorted List 2\n",
      "1 2 6 3 5 4\n",
      "Partially Sorted List 3\n",
      "1 2 3 6 5 4\n",
      "Partially Sorted List 4\n",
      "1 2 3 4 5 6\n",
      "\n",
      "Sorted List:\n",
      "1 2 3 4 5 6\n"
     ]
    }
   ],
   "source": [
    "A = [5, 4, 6, 3, 1, 2]\n",
    "def selection_sort(arr):\n",
    "    for i in range(len(arr)):\n",
    "        min_val = i\n",
    "        for j in range(i+1, len(arr)):\n",
    "            if arr[j] < arr[min_val]:\n",
    "                min_val = j\n",
    "\n",
    "        if min_val != i:\n",
    "            arr[min_val], arr[i] = arr[i], arr[min_val]\n",
    "            print(f\"Partially Sorted List {i+1}\")\n",
    "            print (*arr)\n",
    "    print()\n",
    "    print(\"Sorted List:\")\n",
    "    print(*arr)\n",
    "selection_sort(A)\n"
   ]
  },
  {
   "cell_type": "code",
   "execution_count": 37,
   "metadata": {},
   "outputs": [
    {
     "name": "stdout",
     "output_type": "stream",
     "text": [
      "Binary Search: List of checked numbers: [34, 56]\n",
      "Found!\n"
     ]
    }
   ],
   "source": [
    "list_int = list(map(int, input(\"Enter a list of integer number: \").split()))\n",
    "search_num = int(input(\"Enter a number to search: \"))\n",
    "sorted_data = sorted(list_int)\n",
    "checked_list = []\n",
    "\n",
    "def binary_search(arr, x):\n",
    "    low = 0\n",
    "    mid = 0\n",
    "    high = len(arr) - 1 \n",
    "\n",
    "\n",
    "    while low <= high:\n",
    "        mid = (low + high)//2 \n",
    "        value = arr[mid]\n",
    "        checked_list.append(value)\n",
    "        if value == x:\n",
    "            return mid\n",
    "        if x <  value:\n",
    "            high = mid - 1\n",
    "        if x >  value:\n",
    "            low = mid + 1 \n",
    "    return - 1\n",
    "\n",
    "\n",
    "binary_search(sorted_data, search_num)\n",
    "print(f\"Binary Search: List of checked numbers: {checked_list}\")\n",
    "\n",
    "if binary_search(sorted_data, search_num) != False:\n",
    "    print(\"Found!\")\n",
    "else:\n",
    "    print(\"Not found!\")\n"
   ]
  }
 ],
 "metadata": {
  "interpreter": {
   "hash": "f164d5efe9b6d27a72f1863e7af68e888e1728e4947268bad03f30ab84e86855"
  },
  "kernelspec": {
   "display_name": "Python 3.9.9 64-bit (windows store)",
   "language": "python",
   "name": "python3"
  },
  "language_info": {
   "codemirror_mode": {
    "name": "ipython",
    "version": 3
   },
   "file_extension": ".py",
   "mimetype": "text/x-python",
   "name": "python",
   "nbconvert_exporter": "python",
   "pygments_lexer": "ipython3",
   "version": "3.9.9"
  },
  "orig_nbformat": 4
 },
 "nbformat": 4,
 "nbformat_minor": 2
}

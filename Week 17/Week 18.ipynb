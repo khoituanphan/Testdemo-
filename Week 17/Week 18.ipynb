{
 "cells": [
  {
   "cell_type": "code",
   "execution_count": 1,
   "metadata": {},
   "outputs": [
    {
     "name": "stdout",
     "output_type": "stream",
     "text": [
      "Combination(5, 1) = 5\n"
     ]
    }
   ],
   "source": [
    "def combination(n, k):\n",
    "    if k == 0 or k == n :\n",
    "        return 1\n",
    "    elif k == 1:\n",
    "        return n\n",
    "    else:\n",
    "        return combination (n-1, k-1) + combination (n-1, k)\n",
    "\n",
    "input = list(map(int, (input(\"Enter two numbers (n, k): \").split())))\n",
    "n = input[0]\n",
    "k = input[1]\n",
    "result = combination(n, k)\n",
    "print(\"Combination({}, {}) = {}\".format(n,k, result ))"
   ]
  },
  {
   "cell_type": "code",
   "execution_count": 2,
   "metadata": {},
   "outputs": [
    {
     "name": "stdout",
     "output_type": "stream",
     "text": [
      "[1]\n",
      "[1, 1]\n",
      "[1, 2, 1]\n",
      "[1, 3, 3, 1]\n",
      "[1, 4, 6, 4, 1]\n",
      "[1, 5, 10, 10, 5, 1]\n",
      "[1]\n",
      "[1, 1]\n",
      "[1, 2, 1]\n",
      "[1, 3, 3, 1]\n",
      "[1, 4, 6, 4, 1]\n",
      "[1, 5, 10, 10, 5, 1]\n"
     ]
    },
    {
     "data": {
      "text/plain": [
       "[1, 5, 10, 10, 5, 1]"
      ]
     },
     "execution_count": 2,
     "metadata": {},
     "output_type": "execute_result"
    }
   ],
   "source": [
    "def pascal(n):\n",
    "    pascal_triangle = []\n",
    "    for i in range (n):\n",
    "        l = len(pascal_triangle)\n",
    "        if l == 0 or l == 1:\n",
    "            pascal_triangle.append(1)\n",
    "        elif l != 0:\n",
    "            for j in range(l - 1):\n",
    "                pascal_triangle[j] = pascal_triangle[j] + pascal_triangle[j +1]\n",
    "            pascal_triangle.insert(0, 1)\n",
    "        print(pascal_triangle)\n",
    "\n",
    "pascal (6)\n",
    "\n",
    "# recursive method\n",
    "def pascal2(n):\n",
    "    if n == 0:\n",
    "        return []\n",
    "    elif n == 1:\n",
    "        print([1])\n",
    "        return [1]\n",
    "    else:\n",
    "        pascal_triangle = [1]\n",
    "        new_line = pascal2(n - 1)\n",
    "        for i in range(len(new_line) - 1):\n",
    "            pascal_triangle.append(new_line[i] + new_line[i + 1])\n",
    "        pascal_triangle += [1]\n",
    "        print(pascal_triangle)\n",
    "    return pascal_triangle\n",
    "pascal2 (6)"
   ]
  }
 ],
 "metadata": {
  "interpreter": {
   "hash": "f164d5efe9b6d27a72f1863e7af68e888e1728e4947268bad03f30ab84e86855"
  },
  "kernelspec": {
   "display_name": "Python 3.9.9 64-bit (windows store)",
   "language": "python",
   "name": "python3"
  },
  "language_info": {
   "codemirror_mode": {
    "name": "ipython",
    "version": 3
   },
   "file_extension": ".py",
   "mimetype": "text/x-python",
   "name": "python",
   "nbconvert_exporter": "python",
   "pygments_lexer": "ipython3",
   "version": "3.9.9"
  },
  "orig_nbformat": 4
 },
 "nbformat": 4,
 "nbformat_minor": 2
}

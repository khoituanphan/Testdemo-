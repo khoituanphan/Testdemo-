{
 "cells": [
  {
   "cell_type": "markdown",
   "metadata": {},
   "source": [
    "# Name: Phan Tuấn Khôi\n",
    "# Student ID: V202100567\n",
    "# Submission Date: 11/10/2021\n",
    "# Assignment: Problem Sets Design 1\n",
    "***\n"
   ]
  },
  {
   "cell_type": "markdown",
   "metadata": {},
   "source": [
    "# Problem 1: Defining a function kg_to_Ibs and m_to_ft then return both value back to user \n",
    "Formula for converting meters to feet: ft = m * 3.28\n",
    "Formula for converting kilograms to pounds: 1 kg = 2.2046 Ibs"
   ]
  },
  {
   "cell_type": "markdown",
   "metadata": {},
   "source": [
    "## Question: Give user hight and weight (ft and lbs) based on their in put in kg "
   ]
  },
  {
   "cell_type": "markdown",
   "metadata": {},
   "source": [
    "## Solution: \n",
    "def M_to_Ft(meter):\n",
    "  Ft = meter * 3.2808\n",
    "  return (Ft)\n",
    "def Kg_to_Ibs(kg):\n",
    "    Ibs = kg * 2.2046\n",
    "    return (Ibs)\n",
    "x = float(input(\"Your height: \"))\n",
    "y = float(input(\"Your weigh: \"))\n",
    "print(\"Your weigh is:  {}. Your heigh is: {}\".format(Kg_to_Ibs(x), M_to_Ft(x)))"
   ]
  },
  {
   "cell_type": "markdown",
   "metadata": {},
   "source": [
    "# Problem 2: Test if str 2 in str 1. Your code should work whether the user enter a capital or non-capital letter, or even they have space infront of their input"
   ]
  },
  {
   "cell_type": "markdown",
   "metadata": {},
   "source": [
    "## Question: Check whether user name was on the list "
   ]
  },
  {
   "cell_type": "markdown",
   "metadata": {},
   "source": [
    "## Solution: \n",
    "str1 = \"ANDREW, JACK, IRIS, ALI\"\n",
    "str2  = input(\"Enter your name: \")\n",
    "str3 = str(str2.upper()).strip(\" \")\n",
    "str3 in str1"
   ]
  }
 ],
 "metadata": {
  "kernelspec": {
   "display_name": "Python 3",
   "language": "python",
   "name": "python3"
  },
  "language_info": {
   "codemirror_mode": {
    "name": "ipython",
    "version": 3
   },
   "file_extension": ".py",
   "mimetype": "text/x-python",
   "name": "python",
   "nbconvert_exporter": "python",
   "pygments_lexer": "ipython3",
   "version": "3.8.8"
  }
 },
 "nbformat": 4,
 "nbformat_minor": 2
}

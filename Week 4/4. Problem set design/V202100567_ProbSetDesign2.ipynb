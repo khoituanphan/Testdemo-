{
 "cells": [
  {
   "cell_type": "markdown",
   "metadata": {},
   "source": [
    "# Name: Phan Tuấn Khôi\n",
    "# Student ID: V202100567\n",
    "# Submission Date: 20/10/2021\n",
    "# Assignment: Design ONE problem set with error(s).\n",
    "***\n"
   ]
  },
  {
   "cell_type": "markdown",
   "metadata": {},
   "source": [
    "# Problem 1 Write a code to calculate students average score base on students input (aleast 2 decimal)"
   ]
  },
  {
   "cell_type": "markdown",
   "metadata": {},
   "source": [
    "## Question: first_score = float(input(\"1st score: \"))\n",
    "second_score = int(input(\"2nd score: \"))\n",
    "third_score = float(input(\"3rd scrore\"))\n",
    "def average (first_score, second_score, third_score)\n",
    "    final = first_score + second_score + third_score/3\n",
    "    return(final)\n",
    "print (average(first_score, second_score, third_score))"
   ]
  },
  {
   "cell_type": "markdown",
   "metadata": {},
   "source": [
    "### Solution:\n",
    "This line of code have Syntax error. At the end of [def average (first_score, second_score, third_score)] There should be an : to clode the def function\n",
    "Fix [def average (first_score, second_score, third_score):]\n",
    "\n",
    "This line of code have Runtime error. The input type of [second_score = int(input(\"2nd score: \"))] should be float instead of int. In order to process input up atleast 2 decimal.\n",
    "Fix [second_score = float(input(\"2nd score: \"))]\n",
    "\n",
    "\n",
    "This code contain semantic error. [final = first_score + second_score + third_score/3] this code won't return the average of the score, it gonna return the sum of the first, the second score and one-third of the third score. \n",
    "Fix [(final = first_score + second_score + third_score)/3]"
   ]
  }
 ],
 "metadata": {
  "kernelspec": {
   "display_name": "Python 3",
   "language": "python",
   "name": "python3"
  },
  "language_info": {
   "codemirror_mode": {
    "name": "ipython",
    "version": 3
   },
   "file_extension": ".py",
   "mimetype": "text/x-python",
   "name": "python",
   "nbconvert_exporter": "python",
   "pygments_lexer": "ipython3",
   "version": "3.8.8"
  }
 },
 "nbformat": 4,
 "nbformat_minor": 2
}

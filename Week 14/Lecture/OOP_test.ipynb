{
 "cells": [
  {
   "cell_type": "code",
   "execution_count": 6,
   "metadata": {},
   "outputs": [
    {
     "name": "stdout",
     "output_type": "stream",
     "text": [
      "5000\n"
     ]
    }
   ],
   "source": [
    "class vege:\n",
    "    price = 50\n",
    "    def __init__(self,name):\n",
    "        self.quantity = 100\n",
    "    def get_stock(self):\n",
    "        print(self.quantity* vege.price)\n",
    "t = vege(\"ghost\")\n",
    "t.get_stock()"
   ]
  },
  {
   "cell_type": "code",
   "execution_count": 7,
   "metadata": {},
   "outputs": [
    {
     "name": "stdout",
     "output_type": "stream",
     "text": [
      "ghost 500\n"
     ]
    }
   ],
   "source": [
    "class vege:\n",
    "    def __init__(self,name, price):\n",
    "        self.name = name\n",
    "        self.price = price\n",
    "    def get_stock(self):\n",
    "        print(self.name,  self.price)\n",
    "t = vege(\"ghost\", \"500\")\n",
    "t.get_stock()"
   ]
  },
  {
   "cell_type": "code",
   "execution_count": 8,
   "metadata": {},
   "outputs": [
    {
     "name": "stdout",
     "output_type": "stream",
     "text": [
      "khoi\n"
     ]
    }
   ],
   "source": [
    "class vege:\n",
    "    name = \"khoi\"\n",
    "    def get_stock(self):\n",
    "        print(self.name, )\n",
    "t = vege()\n",
    "t.get_stock()"
   ]
  },
  {
   "cell_type": "code",
   "execution_count": 9,
   "metadata": {},
   "outputs": [
    {
     "name": "stdout",
     "output_type": "stream",
     "text": [
      "Koi\n"
     ]
    }
   ],
   "source": [
    "class vege:\n",
    "    name = \"khoi\"\n",
    "    def __init__(self, name):\n",
    "        self.name = name\n",
    "    def get_stock(self):\n",
    "        print(self.name)\n",
    "t = vege(\"Koi\") \n",
    "t.get_stock()"
   ]
  },
  {
   "cell_type": "code",
   "execution_count": 10,
   "metadata": {},
   "outputs": [
    {
     "name": "stdout",
     "output_type": "stream",
     "text": [
      "3\n"
     ]
    }
   ],
   "source": [
    "class vege:\n",
    "    size = 0\n",
    "    def __init__(self, name, age, major):\n",
    "        self.name = name\n",
    "        self.age = age\n",
    "        self. major = major\n",
    "        vege.size += 1\n",
    "    def get_stock(self):\n",
    "        print(self.name)\n",
    "t1 = vege(\"koi\", 20, \"cs\")\n",
    "t2 = vege(\"khoi\", 200, \"cs\")\n",
    "t3 = vege(\"khoii\", 2000, \"cs\")\n",
    "\n",
    "\n",
    "print(vege.size)"
   ]
  },
  {
   "cell_type": "code",
   "execution_count": 11,
   "metadata": {},
   "outputs": [
    {
     "name": "stdout",
     "output_type": "stream",
     "text": [
      "30\n",
      "10\n",
      "10\n"
     ]
    }
   ],
   "source": [
    "class vege:\n",
    "    def __init__(self, price):\n",
    "        self.price = price\n",
    "    def get_stock(self):\n",
    "        print(self.price)\n",
    "class sec_class(vege):\n",
    "    def __init__(self):\n",
    "        vege.__init__(self, 10)\n",
    "    def get_stock2(self):\n",
    "        print(self.price)\n",
    "t1 = vege(30)\n",
    "t1.get_stock()\n",
    "\n",
    "t = sec_class()\n",
    "t.get_stock()\n",
    "t.get_stock2()"
   ]
  },
  {
   "cell_type": "code",
   "execution_count": 12,
   "metadata": {},
   "outputs": [
    {
     "name": "stdout",
     "output_type": "stream",
     "text": [
      "koi min 10\n"
     ]
    }
   ],
   "source": [
    "class Pets:\n",
    "    def __init__(self, name, age):\n",
    "        self.name = name\n",
    "        self.age  = age\n",
    "        \n",
    "class Dogs(Pets):\n",
    "    def get_name(self):\n",
    "        return self.name\n",
    "        \n",
    "class Zoo(Dogs):\n",
    "    def get_age(self):\n",
    "        return self.age\n",
    "\n",
    "dg = Dogs(\"koi\", 10)\n",
    "zo = Zoo(\"min\", 10)\n",
    "\n",
    "a = dg.get_name()\n",
    "b = zo.get_name()\n",
    "c = zo.get_age()\n",
    "\n",
    "print(a, b, c)\n"
   ]
  },
  {
   "cell_type": "markdown",
   "metadata": {},
   "source": [
    "Operator overloading (Interact between function in Object Programing)"
   ]
  },
  {
   "cell_type": "code",
   "execution_count": 13,
   "metadata": {},
   "outputs": [
    {
     "name": "stdout",
     "output_type": "stream",
     "text": [
      "S1 < S2\n"
     ]
    }
   ],
   "source": [
    "class Age:\n",
    "    def __init__(self, a):\n",
    "        self.a = a\n",
    "    def __lt__(self, another):\n",
    "        if(self.a < another.a):\n",
    "            return True\n",
    "        else:\n",
    "            return False\n",
    "\n",
    "std1 = Age(32)\n",
    "std2 = Age(45)\n",
    "\n",
    "if (std1 < std2):\n",
    "    print (\"S1 < S2\")\n",
    "else:\n",
    "    print (\"S2 < S1\")\n"
   ]
  },
  {
   "cell_type": "code",
   "execution_count": 15,
   "metadata": {},
   "outputs": [
    {
     "name": "stdout",
     "output_type": "stream",
     "text": [
      "S2 < S1\n"
     ]
    }
   ],
   "source": [
    "class Age:\n",
    "    def __init__(self, a):\n",
    "        self.a = a\n",
    "    def __gt__(self, vkl):\n",
    "        if(self.a < vkl.a):\n",
    "            return True\n",
    "        else:\n",
    "            return False\n",
    "\n",
    "std1 = Age(32)\n",
    "std2 = Age(45)\n",
    "\n",
    "if (std1 < std2):\n",
    "    print (\"S1 < S2\")\n",
    "else:\n",
    "    print (\"S2 < S1\")\n"
   ]
  },
  {
   "cell_type": "code",
   "execution_count": 26,
   "metadata": {},
   "outputs": [
    {
     "name": "stdout",
     "output_type": "stream",
     "text": [
      "77\n"
     ]
    }
   ],
   "source": [
    "std1 = 32\n",
    "std2 = 45\n",
    "final = std1.__add__(std2)\n",
    "print(final)\n"
   ]
  },
  {
   "cell_type": "code",
   "execution_count": 33,
   "metadata": {},
   "outputs": [
    {
     "name": "stdout",
     "output_type": "stream",
     "text": [
      "3245\n"
     ]
    }
   ],
   "source": [
    "std1 = \"32\"\n",
    "std2 = \"45\"\n",
    "final = std1.__add__(std2)\n",
    "print(final)\n"
   ]
  },
  {
   "cell_type": "code",
   "execution_count": 37,
   "metadata": {},
   "outputs": [
    {
     "ename": "TypeError",
     "evalue": "unsupported operand type(s) for +: 'tests' and 'tests'",
     "output_type": "error",
     "traceback": [
      "\u001b[1;31m---------------------------------------------------------------------------\u001b[0m",
      "\u001b[1;31mTypeError\u001b[0m                                 Traceback (most recent call last)",
      "\u001b[1;32m~\\AppData\\Local\\Temp/ipykernel_22328/3518686374.py\u001b[0m in \u001b[0;36m<module>\u001b[1;34m\u001b[0m\n\u001b[0;32m      5\u001b[0m \u001b[0mc1\u001b[0m \u001b[1;33m=\u001b[0m \u001b[0mtests\u001b[0m\u001b[1;33m(\u001b[0m\u001b[1;33m-\u001b[0m\u001b[1;36m3\u001b[0m\u001b[1;33m,\u001b[0m \u001b[1;36m2\u001b[0m\u001b[1;33m)\u001b[0m\u001b[1;33m\u001b[0m\u001b[1;33m\u001b[0m\u001b[0m\n\u001b[0;32m      6\u001b[0m \u001b[0mc2\u001b[0m \u001b[1;33m=\u001b[0m \u001b[0mtests\u001b[0m\u001b[1;33m(\u001b[0m \u001b[1;36m4\u001b[0m\u001b[1;33m,\u001b[0m \u001b[1;36m5\u001b[0m\u001b[1;33m)\u001b[0m\u001b[1;33m\u001b[0m\u001b[1;33m\u001b[0m\u001b[0m\n\u001b[1;32m----> 7\u001b[1;33m \u001b[0mprint\u001b[0m\u001b[1;33m(\u001b[0m\u001b[0mc1\u001b[0m \u001b[1;33m+\u001b[0m \u001b[0mc2\u001b[0m\u001b[1;33m)\u001b[0m\u001b[1;33m\u001b[0m\u001b[1;33m\u001b[0m\u001b[0m\n\u001b[0m",
      "\u001b[1;31mTypeError\u001b[0m: unsupported operand type(s) for +: 'tests' and 'tests'"
     ]
    }
   ],
   "source": [
    "class tests:\n",
    "    def __init__(self, x, y):\n",
    "        self.x = x\n",
    "        self.y = y\n",
    "c1 = tests(-3, 2)\n",
    "c2 = tests( 4, 5)\n",
    "print(c1 + c2)"
   ]
  },
  {
   "cell_type": "code",
   "execution_count": 39,
   "metadata": {},
   "outputs": [
    {
     "name": "stdout",
     "output_type": "stream",
     "text": [
      "1, 7\n"
     ]
    }
   ],
   "source": [
    "class tests:\n",
    "    def __init__(self, x, y):\n",
    "        self.x = x\n",
    "        self.y = y\n",
    "    def __str__(self):\n",
    "        return f\"{self.x}, {self.y}\"\n",
    "    def __add__(self, another):\n",
    "        x = self.x + another.x\n",
    "        y = self.y + another.y\n",
    "        return tests(x, y)\n",
    "c1 = tests(-3, 2)\n",
    "c2 = tests( 4, 5)\n",
    "print(c1 + c2)"
   ]
  },
  {
   "cell_type": "code",
   "execution_count": 90,
   "metadata": {},
   "outputs": [
    {
     "name": "stdout",
     "output_type": "stream",
     "text": [
      "1, 7\n"
     ]
    }
   ],
   "source": [
    "class tests:\n",
    "    def __init__(self, x, y):\n",
    "        self.x = x\n",
    "        self.y = y\n",
    "    def __str__(self):\n",
    "        return f\"{self.x}, {self.y}\"\n",
    "    def __add__(self, another):\n",
    "        x = self.x + another.x\n",
    "        y = self.y + another.y\n",
    "        return tests(x, y)\n",
    "c1 = tests(-3, 2)\n",
    "c2 = tests( 4, 5)\n",
    "print(c1 + c2)"
   ]
  }
 ],
 "metadata": {
  "interpreter": {
   "hash": "f164d5efe9b6d27a72f1863e7af68e888e1728e4947268bad03f30ab84e86855"
  },
  "kernelspec": {
   "display_name": "Python 3.9.9 64-bit (windows store)",
   "language": "python",
   "name": "python3"
  },
  "language_info": {
   "codemirror_mode": {
    "name": "ipython",
    "version": 3
   },
   "file_extension": ".py",
   "mimetype": "text/x-python",
   "name": "python",
   "nbconvert_exporter": "python",
   "pygments_lexer": "ipython3",
   "version": "3.9.9"
  },
  "orig_nbformat": 4
 },
 "nbformat": 4,
 "nbformat_minor": 2
}
